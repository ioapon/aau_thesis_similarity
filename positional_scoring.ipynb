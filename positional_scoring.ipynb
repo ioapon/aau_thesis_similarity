{
 "cells": [
  {
   "cell_type": "code",
   "execution_count": 5,
   "metadata": {},
   "outputs": [
    {
     "data": {
      "text/html": [
       "<div>\n",
       "<style scoped>\n",
       "    .dataframe tbody tr th:only-of-type {\n",
       "        vertical-align: middle;\n",
       "    }\n",
       "\n",
       "    .dataframe tbody tr th {\n",
       "        vertical-align: top;\n",
       "    }\n",
       "\n",
       "    .dataframe thead th {\n",
       "        text-align: right;\n",
       "    }\n",
       "</style>\n",
       "<table border=\"1\" class=\"dataframe\">\n",
       "  <thead>\n",
       "    <tr style=\"text-align: right;\">\n",
       "      <th></th>\n",
       "      <th>P_distance</th>\n",
       "      <th>P_scatter</th>\n",
       "      <th>P_outside</th>\n",
       "      <th>Total_score</th>\n",
       "      <th>Normalized_score</th>\n",
       "    </tr>\n",
       "  </thead>\n",
       "  <tbody>\n",
       "    <tr>\n",
       "      <th>0</th>\n",
       "      <td>13275</td>\n",
       "      <td>1396.6875</td>\n",
       "      <td>1000</td>\n",
       "      <td>15671.6875</td>\n",
       "      <td>64.767088</td>\n",
       "    </tr>\n",
       "  </tbody>\n",
       "</table>\n",
       "</div>"
      ],
      "text/plain": [
       "   P_distance  P_scatter  P_outside  Total_score  Normalized_score\n",
       "0       13275  1396.6875       1000   15671.6875         64.767088"
      ]
     },
     "execution_count": 5,
     "metadata": {},
     "output_type": "execute_result"
    }
   ],
   "source": [
    "def calculate_score(positions, W1=1, W2=1, C=1000, max_score=None):\n",
    "\n",
    "    if len(positions) != 4:\n",
    "        raise ValueError(\"Exactly four positions must be provided.\")\n",
    "\n",
    "    # Distance Penalty\n",
    "    P_distance = sum((positions[i] - (i + 1)) ** 2 for i in range(4))\n",
    "\n",
    "    # Scatter Penalty\n",
    "    mean_position = sum(positions) / 4\n",
    "    variance_scatter = sum((p - mean_position) ** 2 for p in positions) / 4\n",
    "    range_scatter = max(positions) - min(positions)\n",
    "\n",
    "    # Use variance by default; you can switch to range if preferred\n",
    "    P_scatter = variance_scatter\n",
    "\n",
    "    # Outside Penalty\n",
    "    P_outside = sum(C for p in positions if p > 100)\n",
    "\n",
    "    # Total Score\n",
    "    total_score = W1 * P_distance + W2 * P_scatter + P_outside\n",
    "\n",
    "    # Determine max_score if not provided\n",
    "    if max_score is None:\n",
    "        max_P_distance = sum((100 - (i + 1)) ** 2 for i in range(4))  # Worst-case distance penalty\n",
    "        max_P_scatter = ((100 - 1) ** 2) / 4  # Worst-case scatter penalty (variance)\n",
    "        max_P_outside = 4 * C  # All documents outside the top 100\n",
    "        max_score = W1 * max_P_distance + W2 * max_P_scatter + max_P_outside\n",
    "\n",
    "    # Normalized Score\n",
    "    normalized_score = 100 - (total_score / max_score * 100)\n",
    "    normalized_score = max(0, min(100, normalized_score))  # Clamp to [0, 100]\n",
    "\n",
    "    return {\n",
    "        \"P_distance\": P_distance,\n",
    "        \"P_scatter\": P_scatter,\n",
    "        \"P_outside\": P_outside,\n",
    "        \"Total_score\": total_score,\n",
    "        \"Normalized_score\": normalized_score\n",
    "    }\n",
    "\n",
    "# Example usage in Jupyter Lab\n",
    "# Define positions of the documents\n",
    "positions = [6, 23, 56, 104]\n",
    "\n",
    "# Calculate the score\n",
    "result = calculate_score(positions)\n",
    "\n",
    "# Display the results\n",
    "import pandas as pd\n",
    "result_df = pd.DataFrame([result])\n",
    "result_df\n"
   ]
  },
  {
   "cell_type": "code",
   "execution_count": 30,
   "metadata": {},
   "outputs": [
    {
     "data": {
      "text/plain": [
       "{'P_distance': 31694,\n",
       " 'P_scatter': 1936.25,\n",
       " 'P_outside': 1000,\n",
       " 'Total_score': 34630.25,\n",
       " 'Normalized_score': 22.144659708522312}"
      ]
     },
     "execution_count": 30,
     "metadata": {},
     "output_type": "execute_result"
    }
   ],
   "source": [
    "# Example usage in Jupyter Lab\n",
    "# Define positions of the documents\n",
    "positions = [19, 67, 96, 140]\n",
    "\n",
    "# Calculate the score\n",
    "result = calculate_score(positions)\n",
    "result\n"
   ]
  },
  {
   "cell_type": "code",
   "execution_count": null,
   "metadata": {},
   "outputs": [],
   "source": []
  }
 ],
 "metadata": {
  "kernelspec": {
   "display_name": "tfgpu",
   "language": "python",
   "name": "python3"
  },
  "language_info": {
   "codemirror_mode": {
    "name": "ipython",
    "version": 3
   },
   "file_extension": ".py",
   "mimetype": "text/x-python",
   "name": "python",
   "nbconvert_exporter": "python",
   "pygments_lexer": "ipython3",
   "version": "3.11.8"
  }
 },
 "nbformat": 4,
 "nbformat_minor": 2
}
