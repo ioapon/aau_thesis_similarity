{
 "cells": [
  {
   "cell_type": "code",
   "execution_count": 1,
   "metadata": {},
   "outputs": [],
   "source": [
    "import pandas as pd"
   ]
  },
  {
   "cell_type": "code",
   "execution_count": 2,
   "metadata": {},
   "outputs": [],
   "source": [
    "df = pd.read_excel(r'C:\\Users\\John\\Desktop\\Patent Datasets\\final_data\\data_train_final.xlsx')"
   ]
  },
  {
   "cell_type": "code",
   "execution_count": 7,
   "metadata": {},
   "outputs": [
    {
     "name": "stdout",
     "output_type": "stream",
     "text": [
      "Unique values: ['Y' 'X' 'A' 'I' 'D' 'E' 'P' 'L' 'T']\n"
     ]
    }
   ],
   "source": [
    "unique_values = df['citation_category'].unique()\n",
    "print(\"Unique values:\", unique_values)"
   ]
  },
  {
   "cell_type": "code",
   "execution_count": 6,
   "metadata": {},
   "outputs": [],
   "source": [
    "df['citation_category'] = df['citation_category'].str[0]"
   ]
  },
  {
   "cell_type": "code",
   "execution_count": 8,
   "metadata": {},
   "outputs": [],
   "source": [
    "filtered_df = df[df['citation_category'].isin(['Y', 'X', 'A'])]"
   ]
  },
  {
   "cell_type": "code",
   "execution_count": 10,
   "metadata": {},
   "outputs": [],
   "source": [
    "filtered_df.to_excel(r'C:\\Users\\John\\Desktop\\Patent Datasets\\final_data\\data_train_final_filtered.xlsx', index=False)"
   ]
  },
  {
   "cell_type": "code",
   "execution_count": 12,
   "metadata": {},
   "outputs": [
    {
     "data": {
      "text/html": [
       "<div>\n",
       "<style scoped>\n",
       "    .dataframe tbody tr th:only-of-type {\n",
       "        vertical-align: middle;\n",
       "    }\n",
       "\n",
       "    .dataframe tbody tr th {\n",
       "        vertical-align: top;\n",
       "    }\n",
       "\n",
       "    .dataframe thead th {\n",
       "        text-align: right;\n",
       "    }\n",
       "</style>\n",
       "<table border=\"1\" class=\"dataframe\">\n",
       "  <thead>\n",
       "    <tr style=\"text-align: right;\">\n",
       "      <th></th>\n",
       "      <th>title_x</th>\n",
       "      <th>description_x</th>\n",
       "      <th>citation_category</th>\n",
       "      <th>title_y</th>\n",
       "      <th>claim_y</th>\n",
       "      <th>claim_x</th>\n",
       "      <th>description_y</th>\n",
       "    </tr>\n",
       "  </thead>\n",
       "  <tbody>\n",
       "    <tr>\n",
       "      <th>0</th>\n",
       "      <td>Wind turbine with hydraulic blade pitch system</td>\n",
       "      <td>The present invention relates to a wind turbin...</td>\n",
       "      <td>Y</td>\n",
       "      <td>CONTROL UNIT FOR ROTOR BLADE ADJUSTMENT</td>\n",
       "      <td>1 . An electrohydraulic control unit for rotor...</td>\n",
       "      <td>A wind turbine (1) having a rotor (4) with at ...</td>\n",
       "      <td>CROSS-REFERENCE TO A RELATED APPLICATION The i...</td>\n",
       "    </tr>\n",
       "    <tr>\n",
       "      <th>1</th>\n",
       "      <td>UPDATING SOFTWARE AND/OR FIRMWARE OF A PLURALI...</td>\n",
       "      <td>Field of invention The present invention relat...</td>\n",
       "      <td>Y</td>\n",
       "      <td>METHOD AND SYSTEM FOR SOFTWARE UPDATE OF WIND ...</td>\n",
       "      <td>1 . A method for installing software data at a...</td>\n",
       "      <td>Method of updating software and/or firmware of...</td>\n",
       "      <td>BACKGROUND OF THE INVENTION The present disclo...</td>\n",
       "    </tr>\n",
       "    <tr>\n",
       "      <th>2</th>\n",
       "      <td>A COMPUTER-BASED METHOD AND A PREDICTION DEVIC...</td>\n",
       "      <td>The control of wind turbines can be considered...</td>\n",
       "      <td>X</td>\n",
       "      <td>METHOD FOR THE COMPUTER-SUPPORTED GENERATION O...</td>\n",
       "      <td>1 . A method for computer-aided generation of ...</td>\n",
       "      <td>A computer-based method for providing a soft s...</td>\n",
       "      <td>Method for the computer-aided generation of a ...</td>\n",
       "    </tr>\n",
       "    <tr>\n",
       "      <th>3</th>\n",
       "      <td>A MODULAR DRIVE SYSTEM, A LOAD UNIT AND A TEST...</td>\n",
       "      <td>A modular drive system, a load unit and a test...</td>\n",
       "      <td>A</td>\n",
       "      <td>Wind turbine</td>\n",
       "      <td>A wind turbine having a yaw system that compri...</td>\n",
       "      <td>1. A modular drive system (I,I',I' 1 ) for a t...</td>\n",
       "      <td>The present invention relates to a wind turbin...</td>\n",
       "    </tr>\n",
       "    <tr>\n",
       "      <th>4</th>\n",
       "      <td>A SYSTEM FOR THE ERECTION OF A WIND TURBINE TO...</td>\n",
       "      <td>Background of the invention Due to the increas...</td>\n",
       "      <td>A</td>\n",
       "      <td>HOISTING SYSTEM FOR INSTALLING A WIND TURBINE</td>\n",
       "      <td>C L A I M S</td>\n",
       "      <td>A system for the erection of a tower (T) compr...</td>\n",
       "      <td>Hoisting System for Installing a Wind Turbine ...</td>\n",
       "    </tr>\n",
       "    <tr>\n",
       "      <th>...</th>\n",
       "      <td>...</td>\n",
       "      <td>...</td>\n",
       "      <td>...</td>\n",
       "      <td>...</td>\n",
       "      <td>...</td>\n",
       "      <td>...</td>\n",
       "      <td>...</td>\n",
       "    </tr>\n",
       "    <tr>\n",
       "      <th>26807</th>\n",
       "      <td>ROTOR BLADE WITH A SERRATED TRAILING EDGE</td>\n",
       "      <td>ROTOR BLADE WITH A SERRATED TRAILING EDGE [000...</td>\n",
       "      <td>X</td>\n",
       "      <td>ROTOR BLADE WITH NOISE REDUCTION MEANS</td>\n",
       "      <td>1. Rotor blade (20) for a wind turbine,</td>\n",
       "      <td>1. Rotor blade (20) for a wind turbine (10),</td>\n",
       "      <td>Description Rotor blade with noise reduction m...</td>\n",
       "    </tr>\n",
       "    <tr>\n",
       "      <th>26812</th>\n",
       "      <td>JOINT FOR CONNECTING A WIND TURBINE ROTOR BLAD...</td>\n",
       "      <td>JOINT FOR CONNECTING A WIND TURBINE ROTOR BLAD...</td>\n",
       "      <td>A</td>\n",
       "      <td>Wind turbine blade connector assembly</td>\n",
       "      <td>A wind turbine blade connector assembly (100) ...</td>\n",
       "      <td>1 . A connecting joint for attaching a wind tu...</td>\n",
       "      <td>FIELD OF THE INVENTION The present invention r...</td>\n",
       "    </tr>\n",
       "    <tr>\n",
       "      <th>26813</th>\n",
       "      <td>JOINT FOR CONNECTING A WIND TURBINE ROTOR BLAD...</td>\n",
       "      <td>JOINT FOR CONNECTING A WIND TURBINE ROTOR BLAD...</td>\n",
       "      <td>A</td>\n",
       "      <td>Blade insert</td>\n",
       "      <td>Blade insert coupled in the solid lamination l...</td>\n",
       "      <td>1 . A connecting joint for attaching a wind tu...</td>\n",
       "      <td>Object of the invention The invention describe...</td>\n",
       "    </tr>\n",
       "    <tr>\n",
       "      <th>26815</th>\n",
       "      <td>A PITCH CONTROLLED WIND TURBINE</td>\n",
       "      <td>A Pitch Controlled Wind Turbine FIELD OF THE I...</td>\n",
       "      <td>X</td>\n",
       "      <td>A PITCH CONTROLLED WIND TURBINE WITH BLADE CON...</td>\n",
       "      <td>24</td>\n",
       "      <td>1. A pitch controlled wind turbine comprising ...</td>\n",
       "      <td>A PITCH CONTROLLED WIND TURBINE WITH BLADE CON...</td>\n",
       "    </tr>\n",
       "    <tr>\n",
       "      <th>26816</th>\n",
       "      <td>A PITCH CONTROLLED WIND TURBINE</td>\n",
       "      <td>A Pitch Controlled Wind Turbine FIELD OF THE I...</td>\n",
       "      <td>X</td>\n",
       "      <td>CABLE-STAYED ROTOR FOR WIND AND WATER TURBINES</td>\n",
       "      <td>1 - 12 . (canceled)</td>\n",
       "      <td>1. A pitch controlled wind turbine comprising ...</td>\n",
       "      <td>BACKGROUND OF THE INVENTION 1. Field of the In...</td>\n",
       "    </tr>\n",
       "  </tbody>\n",
       "</table>\n",
       "<p>25922 rows × 7 columns</p>\n",
       "</div>"
      ],
      "text/plain": [
       "                                                 title_x  \\\n",
       "0         Wind turbine with hydraulic blade pitch system   \n",
       "1      UPDATING SOFTWARE AND/OR FIRMWARE OF A PLURALI...   \n",
       "2      A COMPUTER-BASED METHOD AND A PREDICTION DEVIC...   \n",
       "3      A MODULAR DRIVE SYSTEM, A LOAD UNIT AND A TEST...   \n",
       "4      A SYSTEM FOR THE ERECTION OF A WIND TURBINE TO...   \n",
       "...                                                  ...   \n",
       "26807          ROTOR BLADE WITH A SERRATED TRAILING EDGE   \n",
       "26812  JOINT FOR CONNECTING A WIND TURBINE ROTOR BLAD...   \n",
       "26813  JOINT FOR CONNECTING A WIND TURBINE ROTOR BLAD...   \n",
       "26815                    A PITCH CONTROLLED WIND TURBINE   \n",
       "26816                    A PITCH CONTROLLED WIND TURBINE   \n",
       "\n",
       "                                           description_x citation_category  \\\n",
       "0      The present invention relates to a wind turbin...                 Y   \n",
       "1      Field of invention The present invention relat...                 Y   \n",
       "2      The control of wind turbines can be considered...                 X   \n",
       "3      A modular drive system, a load unit and a test...                 A   \n",
       "4      Background of the invention Due to the increas...                 A   \n",
       "...                                                  ...               ...   \n",
       "26807  ROTOR BLADE WITH A SERRATED TRAILING EDGE [000...                 X   \n",
       "26812  JOINT FOR CONNECTING A WIND TURBINE ROTOR BLAD...                 A   \n",
       "26813  JOINT FOR CONNECTING A WIND TURBINE ROTOR BLAD...                 A   \n",
       "26815  A Pitch Controlled Wind Turbine FIELD OF THE I...                 X   \n",
       "26816  A Pitch Controlled Wind Turbine FIELD OF THE I...                 X   \n",
       "\n",
       "                                                 title_y  \\\n",
       "0                CONTROL UNIT FOR ROTOR BLADE ADJUSTMENT   \n",
       "1      METHOD AND SYSTEM FOR SOFTWARE UPDATE OF WIND ...   \n",
       "2      METHOD FOR THE COMPUTER-SUPPORTED GENERATION O...   \n",
       "3                                           Wind turbine   \n",
       "4          HOISTING SYSTEM FOR INSTALLING A WIND TURBINE   \n",
       "...                                                  ...   \n",
       "26807             ROTOR BLADE WITH NOISE REDUCTION MEANS   \n",
       "26812              Wind turbine blade connector assembly   \n",
       "26813                                       Blade insert   \n",
       "26815  A PITCH CONTROLLED WIND TURBINE WITH BLADE CON...   \n",
       "26816     CABLE-STAYED ROTOR FOR WIND AND WATER TURBINES   \n",
       "\n",
       "                                                 claim_y  \\\n",
       "0      1 . An electrohydraulic control unit for rotor...   \n",
       "1      1 . A method for installing software data at a...   \n",
       "2      1 . A method for computer-aided generation of ...   \n",
       "3      A wind turbine having a yaw system that compri...   \n",
       "4                                            C L A I M S   \n",
       "...                                                  ...   \n",
       "26807            1. Rotor blade (20) for a wind turbine,   \n",
       "26812  A wind turbine blade connector assembly (100) ...   \n",
       "26813  Blade insert coupled in the solid lamination l...   \n",
       "26815                                                 24   \n",
       "26816                                1 - 12 . (canceled)   \n",
       "\n",
       "                                                 claim_x  \\\n",
       "0      A wind turbine (1) having a rotor (4) with at ...   \n",
       "1      Method of updating software and/or firmware of...   \n",
       "2      A computer-based method for providing a soft s...   \n",
       "3      1. A modular drive system (I,I',I' 1 ) for a t...   \n",
       "4      A system for the erection of a tower (T) compr...   \n",
       "...                                                  ...   \n",
       "26807       1. Rotor blade (20) for a wind turbine (10),   \n",
       "26812  1 . A connecting joint for attaching a wind tu...   \n",
       "26813  1 . A connecting joint for attaching a wind tu...   \n",
       "26815  1. A pitch controlled wind turbine comprising ...   \n",
       "26816  1. A pitch controlled wind turbine comprising ...   \n",
       "\n",
       "                                           description_y  \n",
       "0      CROSS-REFERENCE TO A RELATED APPLICATION The i...  \n",
       "1      BACKGROUND OF THE INVENTION The present disclo...  \n",
       "2      Method for the computer-aided generation of a ...  \n",
       "3      The present invention relates to a wind turbin...  \n",
       "4      Hoisting System for Installing a Wind Turbine ...  \n",
       "...                                                  ...  \n",
       "26807  Description Rotor blade with noise reduction m...  \n",
       "26812  FIELD OF THE INVENTION The present invention r...  \n",
       "26813  Object of the invention The invention describe...  \n",
       "26815  A PITCH CONTROLLED WIND TURBINE WITH BLADE CON...  \n",
       "26816  BACKGROUND OF THE INVENTION 1. Field of the In...  \n",
       "\n",
       "[25922 rows x 7 columns]"
      ]
     },
     "execution_count": 12,
     "metadata": {},
     "output_type": "execute_result"
    }
   ],
   "source": [
    "filtered_df"
   ]
  },
  {
   "cell_type": "code",
   "execution_count": 15,
   "metadata": {},
   "outputs": [
    {
     "name": "stdout",
     "output_type": "stream",
     "text": [
      "The average number of words in the 'claim_x' column is 4413.75\n"
     ]
    }
   ],
   "source": [
    "# Calculate the average number of words in the 'claims_y' column\n",
    "average_word_count_claims_y = filtered_df['description_y'].apply(lambda x: len(str(x).split())).mean()\n",
    "print(f\"The average number of words in the 'claim_x' column is {average_word_count_claims_y:.2f}\")"
   ]
  },
  {
   "cell_type": "code",
   "execution_count": 16,
   "metadata": {},
   "outputs": [
    {
     "name": "stdout",
     "output_type": "stream",
     "text": [
      "The maximum number of words in the 'claim_x' column is 6450\n"
     ]
    }
   ],
   "source": [
    "# Calculate the maximum number of words in the 'claims_y' column\n",
    "max_word_count_claims_y = df['description_y'].apply(lambda x: len(str(x).split())).max()\n",
    "print(f\"The maximum number of words in the 'claim_x' column is {max_word_count_claims_y}\")"
   ]
  }
 ],
 "metadata": {
  "kernelspec": {
   "display_name": "tf",
   "language": "python",
   "name": "python3"
  },
  "language_info": {
   "codemirror_mode": {
    "name": "ipython",
    "version": 3
   },
   "file_extension": ".py",
   "mimetype": "text/x-python",
   "name": "python",
   "nbconvert_exporter": "python",
   "pygments_lexer": "ipython3",
   "version": "3.9.17"
  }
 },
 "nbformat": 4,
 "nbformat_minor": 2
}
