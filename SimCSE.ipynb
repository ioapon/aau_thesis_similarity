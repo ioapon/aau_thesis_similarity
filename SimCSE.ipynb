{
 "cells": [
  {
   "cell_type": "code",
   "execution_count": 1,
   "metadata": {},
   "outputs": [],
   "source": [
    "from transformers import AutoTokenizer, AutoModel\n",
    "import torch\n",
    "import pandas as pd\n",
    "from sklearn.metrics.pairwise import cosine_similarity\n",
    "import faiss\n",
    "import numpy as np\n",
    "import string"
   ]
  },
  {
   "cell_type": "code",
   "execution_count": null,
   "metadata": {},
   "outputs": [],
   "source": [
    "# Function to create SimCSE embeddings\n",
    "def get_simcse_embeddings(text_list, batch_size=16):\n",
    "    model.eval()  # Set model to evaluation mode\n",
    "    embeddings = []\n",
    "\n",
    "    with torch.no_grad():  # Disable gradient computation\n",
    "        for i in range(0, len(text_list), batch_size):\n",
    "            batch = text_list[i:i+batch_size]\n",
    "            inputs = tokenizer(batch, padding=True, truncation=True, return_tensors=\"pt\")\n",
    "            \n",
    "            # Move tensors to GPU if available\n",
    "            if torch.cuda.is_available():\n",
    "                inputs = {key: val.cuda() for key, val in inputs.items()}\n",
    "                model.cuda()\n",
    "            \n",
    "            # Get the embeddings (SimCSE uses the `pooler_output`)\n",
    "            outputs = model(**inputs, return_dict=True)\n",
    "            batch_embeddings = outputs.pooler_output.cpu()  # Detach from GPU\n",
    "            \n",
    "            embeddings.append(batch_embeddings)\n",
    "\n",
    "    # Combine all embeddings into a single tensor\n",
    "    return torch.cat(embeddings)"
   ]
  },
  {
   "cell_type": "code",
   "execution_count": 2,
   "metadata": {},
   "outputs": [],
   "source": [
    "# Load the pretrained SimCSE model\n",
    "model_name = \"princeton-nlp/sup-simcse-bert-base-uncased\"  # Change this for different variants\n",
    "tokenizer = AutoTokenizer.from_pretrained(model_name)\n",
    "model = AutoModel.from_pretrained(model_name)"
   ]
  },
  {
   "cell_type": "markdown",
   "metadata": {},
   "source": [
    "## Main Part"
   ]
  },
  {
   "cell_type": "code",
   "execution_count": 3,
   "metadata": {},
   "outputs": [],
   "source": [
    "examples_dataframe = pd.read_excel(r\"C:\\Users\\John\\Desktop\\Patent Datasets\\final_data\\patent_database_final_F03D.xlsx\")"
   ]
  },
  {
   "cell_type": "code",
   "execution_count": 4,
   "metadata": {},
   "outputs": [],
   "source": [
    "title_list = examples_dataframe[\"title\"].tolist()\n",
    "claims_list = examples_dataframe[\"claims\"].tolist()\n",
    "description_list = examples_dataframe[\"description\"].tolist()\n",
    "id_list = examples_dataframe[\"lens_id\"].tolist()"
   ]
  },
  {
   "cell_type": "code",
   "execution_count": 5,
   "metadata": {},
   "outputs": [
    {
     "name": "stdout",
     "output_type": "stream",
     "text": [
      "BLADE MOUNTING CLAIMS: 1. An arrangement for in situ mounting of rotor blades to a rotor hub of a wind power plant comprising rotor blades, a rotor hub (40), a disc (1), a means for rotation (30) of the disc (1) around its axis, the disc (1) being in connected to rotor hub (40) in such a way that when the disc (1) rotates a certain degree of angle around its axis (3) it will cause the rotor hub (40) to rotate the same degree of angle around the axis of the rotor hub, the disc (1) being provided with a connecting device (2), characterized in that the disc (1) is caused to rotate by the means for rotation (30) and when the means for rotation (30) comes into a desired position, the disc (1) is secured by a securing means (20; 36, 37). 2. The arrangement according to claim 1, characterized in that the securing means comprises a male portion (23; 37) and a at least one female portion (2; 220; 36) respectively, and that one of the portions has a fixed position in relation to the disc (1) during rotation and the other portion has a non-fixed position in relation to the disc (1). 3. The arrangement according to claim 1 or claim 2, characterized in that the securing means comprises a sleeve (36), having threads on its inner surface and a collar (37), having corresponding threads on its envelope surface and that when the sleeve (36) is screwed onto the collar (37), the means for rotation (30) is secured from expansion. 4. The arrangement according to any preceding claim, characterized in that the securing means (36, 37) is arranged to provide further adjustment of the rotation of the disc (1). 5. The arrangement according to any preceding claim, characterized in that the securing means comprises a pivotal locking device (20) arranged to prevent the rotor hub (40) from further rotation. 6. The arrangement according to any preceding claim, characterized in that the disc is a brake disc (1). 7. The arrangement according any preceding claim, characterized in that the connecting device (2) of the brake disc (1) consists of several through bores evenly distributed on the brake disc (1) at a certain distance from the axis (3) of the brake disc (1). 8. The arrangement according to any preceding claim, characterized in that the locking device (20) is rotatably arranged around a fixed position (21) in its one end and provided with a locking connection (22) at its other/opposite end, the locking connection (22) being arranged to fit into the connecting device (2) of the brake disc (I)- 9. The arrangement according to any preceding claim, characterized in that the means for rotation (30) is a hydraulic cylinder (34) and a hydraulic piston (35). 10. The arrangement according to claim 9, characterized in that the hydraulic cylinder (34) has a fastening means (32) mounted on its piston (35), the fastening means (32) having at least one through bore (330). 11. A process for in situ mounting of rotor blades to a rotor hub of a wind power plant comprising rotor blades, a rotor hub (40), a disc (1), a means for rotation (30) of the disc around its axis (3), the disc (1) being in connection with the rotor hub (40) in such a way that when the disc (1) rotates a certain degree of angle around its axis (3) it will cause the rotor hub (40) to rotate the same degree of angle around the axis of the rotor hub, the disc (1) being provided with a connecting device, characterized in that after having mounted the first rotor blade to the rotor hub the following steps take place: a means for rotation (30) rotates the disc (1) around its axis (3) when the means for rotation (30) comes into a desired stroke position, the means for rotation (30) is stopped to prevent further rotation and a securing means (20, 36, 37) is connected via the brake disc (1) or to lock the rotor hub (40) against rotation, via the brake disc (1). 12. The process according to claim 11, characterized in that when the last rotor blade (51) has been mounted on the rotor hub (40), the locking device (20) and means for rotation (30) is disconnected from the disc. 13. The process according to claim 11 or claim 12, characterized in that the means for rotation (30) is a hydraulic cylinder and a hydraulic piston (34, 35). 14. A wind power plant, characterized in that it comprises the arrangement according to any of claims 1 to 10. BLADE MOUNTING The present invention concerns the area of construction of a wind power plant and more specifically to an arrangement and a method for mounting rotor blades to a rotor hub of a wind power installation in situ. Various aspects of the invention also concern a wind power installation implementing the method. The most common way for mounting rotor blades to a rotor hub is to perform the mounting on the ground, i.e. all of the rotor blades are fitted to the flange of the rotor hub, which rotor hub is resting on the ground. When all the rotor blades have been fitted and are on place, the rotor hub with the mounted rotor blades are lifted up to the top of the tower. The lifting of the rotor hub with several rotor blades mounted to the hub, is a difficult and risky operation because of the high total weight of the rotor hub and the rotor blades together. The lifting is weather dependent and can generally only be performed on calm days with no wind. The geographic places chosen for wind power plants to be built on are preferably windy places and it can therefore be understood that the mounting normally will be very costly. Also in situ mounting of one blade at the time is known. The in situ mounting of rotor blades on the rotor hub of a wind power plant is accompanied by at least two problems to deal with, namely lifting the rotor blade from the ground up to the rotor hub and, after having mounted the first rotor blade to the rotor hub, handling the considerable imbalance which has been introduced due to the one-sided load of the blade. It is known to use mobile cranes for in situ mounting, whereby a rotor blade is lifted by the crane and fixed in situ to the rotor hub. The crane picks up the rotor blade at the base of the wind power installation and takes it to the rotor blade connection of the hub of the wind power installation so that the rotor blade can be connected to the hub. A disadvantage of mobile cranes is that they must always be on site when the rotor blades are to be mounted to the hub of the wind power installation. The cranes have to be large enough in order to manage to lift the rotor blades all the way up to the rotor blade connection of the hub. Furthermore, the ground surrounding the wind power plant may not be smooth and even but mountainous or hilly leading to difficulties in transporting the huge mobile crane to the site. Using a crane for the mounting of the rotor blades is combined with big expenses, either for the rental or for the owing of the crane as well as for the transportation of the crane. After having lifted and mounted the first rotor blade to the rotor hub, a considerable imbalance due to the one-sided load of the blade is introduced. In the next step of the process, when the rotor hub is further rotated into the mounting position for the next blade, the imbalance leads to a considerable torque of the rotor hub to be overcome. The document US 2006/0228220 describes a method for mounting a rotor blade of a wind power installation without using a crane. The rotor blades are lifted by cables and winches. The document US 2004/0253109 describes a way to avoid the unintended rotary movement of the rotor hub during mounting of the rotor blade by using weights which are mounted to the flange of the rotor hubs. For a three-blade wind power plant the rotor hub is equipped with three weights already on the ground. The rotor hub is then transported to into the installation situation by a crane so that the rotor blades can be mounted in situ in exchange for the weights. The solution of the problem with the unintended rotary movement of the rotor hub during mounting of the rotor blade according to the US-document leads to the handling of heavy weights which have to be removed during the mounting process. This is a heavy, unsecure and time consuming solution. It is one object of the present invention to overcome the drawbacks and disadvantages of the above described prior art. The solution according to various aspects of the present invention provide a fast, safe and secure method for the blade mounting operation. This can be obtained by an arrangement for in situ mounting of rotor blades to a rotor hub of a wind power plant. In the arrangement the rotor hub/shaft, preferably via a brake disc, is caused to rotate by a means for rotation and since the brake disc (or possibly another device) is in connection with the rotor hub in such a way that when it rotates a certain degree of angle around its axis, it will cause the rotor hub to rotate the same degree of angle around the axis of the rotor hub. Due to the rotation the hub comes into a desired position. The means for rotation is then in an end position, and a securing means secures the device from rotation, e.g. by means of locking. The brake disc is held in the desired position by the locking device and thereby preventing the rotor hub from further rotation. In the following example the wind power installation has three rotor blades, but the same process and arrangement can of course be used for wind power installations with two or four or more blades. According to a further aspect of the invention the securing means is arranged to provide further adjustment of the rotation of the brake disc. Thanks to the arrangement according to certain aspects of the invention, the mounting of the second rotor blade and the next-coming rotor blades to the rotor hub can be carried out in a safe and secure manner. The mounting operation can also be carried out in a fast and cost-effective manner. The investment cost of the equipment needed for various embodiments of the invention is low. Various aspects and embodiments of the invention will be described in more detail with reference to the enclosed figures, in which: Fig. 1 shows an overview of a wind power plant comprising the tower and a first rotor blade to be fitted to the rotor hub, Fig. 2 shows a side view of the brake disc, the locking device and the means for rotation, Fig. 3 shows a side view of the rotor hub connected to the brake disc, Figs. 4a-4d show front views of the brake disc as well as the locking device and means for rotation, having different positions to each other, and Fig. 5 shows a front view of the brake disc where the locking device and the means for rotation is in their resting positions. Fig. 1 is an overview of a wind power plant. A rotor blade 51 is being lifted up to the rotor hub 40 at the upper part of the tower 50 in order to be fitted with its rotor blade connection 52 to the flange 41 of the rotor hub 40, which is connected to the main shaft by means of a hub flange (shown in Fig. 2). Fig. 2 is a side view of the interior of the machine housing of the wind power plant. A brake disc 1 is centrally mounted on the main shaft S of the wind turbine and has a large diameter, normally in the range of 1,5-3 meters. The brake disc 1 extends with a portion of its periphery into the gap of a number of brake units 5. The brake disc 1 is provided with connecting means 2, consisting of a number of through bores evenly distributed on the brake disc 1 at a certain distance from the axis of the brake disc 1. The number of through holes and the degree of angles between the through holes may vary depending on the different needs. A locking device 20 is positioned in a radial direction of the brake disc 1. The locking device 20 is pivotally arranged around a fixed position 21 at one end. At the other end of the locking device 20 there are two parallel plates 221, 222 having a coaxial through hole 220, which plates 221, 222 are arranged to be positioned on a respective side of the brake disc 1 , when pivoted radially, inwardly. On the opposite side of the brake disc 1 , in the radial direction, there is arranged a means for rotation 30 of the brake disc 1, which is also pivotally arranged around a fixed position 31, with one of its ends. At the other end there is a fastening means 32. The hub flange 4 is shown. Fig. 3 is a perspective side view of the rotor hub 40 connected to the hub flange 4. It also shows the means for rotation 30 of the brake disc 1. The blade flange 41 of the rotor hub 40 corresponds to the flange 52 of the rotor blade. The hub 40 is arranged with three blade flanges 41 and for three blades 51. Fig. 4a shows a front view of the brake disc 1. The locking connection 22 of the locking device 20 is connected via a pin 23 to one through hole 2 of the brake disc 1 , thereby locking the position of the brake disc 1 and preventing the brake disc 1 from rotating around its axis 3. The means for rotation, here presented as a hydraulic unit 34, 35, is not connected to the brake disc 1. It is shown that the fastening means 32 comprises a claw like member, having two parallel plates, arranged with a pair of coaxial through holes 330 that correspond to two adjacent through holes 2 of the brake disc 1. In Fig. 4a the through bores 330 of the fastening means 32 are almost in line with a pair of holes 2 of the brake disc 1. The means for rotation 30 of the brake disc is in the preferred embodiment a hydraulic unit 34, 35. The fastening means 32 of the means for rotation 30 is pivotally positioned around a pin 331 at the top end of piston 35, providing good flexibility to come into the exact position for being connected to the brake disc 1. In Fig. 4a the means for rotation 30 is in an expanded position. Fig. 4b shows the same view as Fig. 4a, but in a stage where the fastening means 32 is connected to the brake disc 1. This connection is usually made by screw means or pins 33 extending through through bores 330 of the fastening means 32 and through bores 2 of the brake disc 1. A pivoting device 38 (e.g. a hydraulic unit) has been used to move the unit 30 and fastening means 32 into exact position for aligning the holes 330, 2. In Fig. 4c the locking device 20 is disconnected from the brake disc 1, i.e. by removing the pin 23. The through bore 220 of the locking device 22 (shown in Fig. 4a) is shown. Further the means for rotation 30 has been moved to a contracted position. The fastening means 32 is connected to the brake disc 1. In Fig. 4d, the means for rotation 30 is presented as a hydraulic unit 34, 35 where a female portion sleeve 36 of the hydraulic piston rod 35, is connected to a male portion collar 37 of the hydraulic cylinder 34. The sleeve 36 is provided with threads on its inside surface and these threads correspond to the threads on the envelope surface of the collar 37. Hence, the sleeve 36 may be screwed on to the collar 37. This facilitates a rigid connection between the sleeve 36 and the collar 37 provides a locking of the hydraulic unit 34, 35, thereby securing the hydraulic piston rod 35 from a sudden and undesired expansion. Furthermore, the through bore 220 of the locking connection 22 of the locking device 20 is in position for a re-connection of the connecting device 2 of the brake disc 1 via through bores 220 and 2. Fig. 5 shows the resting position of the locking device 20 and the means for rotation 30. The locking device 20 has been moved by a pivoting device 39 (e.g. a hydraulic unit) in a radial direction away from the brake disc 1 thereby providing free space between the locking device 20 and the brake disc 1. The other pivoting device 38 has been used to move the means for rotation 30 to its resting position. There is a distance (free space) between the brake disc 1 and the means for rotation 30 in its resting position. Also, the fastening means 32 has been rotated around the pin 33 outwardly to a resting position, i.e. moved away from the brake disc 1. These resting positions of the locking device 20 and the means for rotation 30 are for instance used when all rotor blades have been mounted to the rotor hub and the wind power plant is operating. In a preferred embodiment, the first rotor blade 51 is lifted from the ground up to the top portion of the tower and fitted to the annular flange 41 of the rotor hub. From a front side view the rotor blade 51 is then held in a vertical or almost vertical position during the mounting. Before the lifting of the rotor blade, when the rotor blade is in its horizontal position on the ground, the end 52 of the rotor blade (the end which will be fitted to the rotor hub) is connected to two winch ropes 56, 57. These winch ropes 56, 57 runs up to guiding wheels, or sheaves, located on the tower top close to the hub 41. The winch ropes passes over the sheaves, changes direction and continues towards lifting winches on the ground. The lifting winches may be electrically, hydraulically, pneumatically driven or driven by a internal combustion engine. When the rotor blade 51 has been hoisted up to a substantially vertical position by the winch system the tip of the rotor blade (the end opposite to the end which is to be fitted to the flange of rotor hub 41) is connected to a safety device 53 arranged to secure the rotor blade and to maintain the exact position of the rotor blade even if the winds are strong. This safety device runs on two cables 54, 55 which cables are stretched substantially parallel to each other and to the tower from the hub region of the nacelle of the wind power plant to the foundation of the wind power plant. The safety device is provided with means allowing the safety device to be guided along the way up to the rotor hub. This means are placed in the end opposite the end which is connected to the rotor blade. An example of means allowing the safety device to be guided could be wheels. The purpose with the wheels is to let them run continuously along the outer surface of the tower when the rotor blade is lifted. If it is windy when the lifting operation is carried out, the safety device secures that the rotor blade will not be pushed or turned by the wind and collide with the tower which could lead to damage on the rotor blade as well as on the tower. The safety device could also be equipped with extra wheels on protruding arms which would lessen the risk of equipment touching and damaging the tower. When the first rotor blade 51 has been fitted to the rotor hub 40, the rotor hub 40 has to be rotated 120 degrees in order to get the next flange of the rotor hub 41 in position for the mounting of the second rotor blade. The process for rotation of the rotor hub 40 having a first rotor blade 51 fitted to the rotor hub 40 and mounting of the second rotor blade may start by applying the park break 5 to the brake disc 1 in some installations. The means for rotation 30 of the brake disc 1 in the preferred embodiment is a hydraulic unit 34, 35. The hydraulic unit 34, 35 is expanded to its maximum stroke position or near its maximum stroke position and the fastening means 32 of the hydraulic unit 34, 35 is connected to the brake disc 1. The connection is usually made by screw means or pins, which extend through through bores 330 of the fastening means 32 and through bores 4 of the brake disc 1. The fastening means 32 is now in its upper position. The hydraulic unit 34, 35 starts to contract itself thereby rotating the brake disc clockwise. The fastening means 32 moves to its lower position. When the hydraulic cylinder has been contracted to a certain contracted position, the brake disc 1 has been rotated about 30 degrees causing the rotor hub 40 to rotate the same degree of angle around the axis of the rotor hub. Hence, after an appropriate number of \"rounds\" the rotor hub 40 has been rotated 120 degrees and the next flange 41 of the rotor hub 40 for fitting the second rotor blade, 51 has come in position. In order to avoid the unintended rotary movement of the rotor hub 40 during retake of the means for rotation 30, and also during mounting of the rotor blade, the rotor hub has to be held in position. This is done by a rigid locking device 20. The locking device 20 is rotatably arranged around a fixed position 21 in its one end and provided with a locking connection 22 consisting of a through bore 220 at its other end. The through bore 220 of the locking connection 22 is arranged to fit into the through bore of the connecting device 2 of the brake disc 1. A screw means or pin 23 are let into the bores. The position of the brake disc 1 is now rigidly and safely locked, thereby locking the position of the rotor hub. The rigid locking device 20 carries the torques which occur and holds the brake disc 1 in a fixed position during the time it takes to disconnect the hydraulic unit 34, 35 from the brake disc 1 and to re-connect the hydraulic unit 34, 35 to another position on the brake disc 1. In order to being able to connect the locking connection 22 of the locking device 20 to the connecting device 2 (e.g. the through bore) of the brake disc 1, a pivoting device 38 steers and adjusts the position of the locking device 20 to the exact position for the connection. In a further embodiment an accidental and unwished expansion of the means for rotation 30, e.g. the hydraulic unit 34, 35, is prevented when the hydraulic unit 34, 35 is in a certain contracted position (normally close to full contraction). This is done by a securing means which comprises a female portion 36 and a male portion 37. The female portion is in this embodiment a sleeve 36 and the male portion 37 a collar. The sleeve 36 is provided with several threads on its inside surface and these threads correspond to the threads on the envelope surface of the collar 37. The sleeve 36 is screwed on the collar 37 several revolutions thereby securing the hydraulic unit 34, 35 from expansion. The securing of the hydraulic unit 34, 35 from expansion in its contracted position by the securing means may be an important security operation, in many installations. Another feature of the securing means is that it provides further adjustment of the rotation of the brake disc 1 in such a way that in order to get the connecting device 2, i.e. the through bore 2, in the exact position for the connection to the locking connection 22, i.e. the through bore 220, the number of revolutions that the sleeve 36 is screwed on the collar 37 can be variable and adjustable. The final adjustment/tuning of the disc 1 into the exact position is then carried out without using hydraulic power. Still another feature of the securing means 36, 37 is that the means also improves security regarding the work with connecting the locking device 20 to the brake disc 1. This work which may be done by hand and thanks to the extra securing means 36, 37 it may be carried out in a safe manner without the risk of accidents caused by a sudden and unexpected rotation of the brake disc 1. This may be an important feature of the invention, in some installations. When having secured the means for rotation 30 from a sudden and undesired expansion by the securing means, the locking device 20 is connected to the brake disc 1 in a manner earlier described. The rotor hub 40 is now positioned and ready for the fitting of the second rotor blade to the flange of the rotor hub 41. The second rotor blade can now be fitted to the flange of the rotor hub in a safe manner thanks to the locked position of the rotor hub. When the second rotor blade has been fitted to the rotor hub 40, the sleeve 36 of the hydraulic unit 34, 35 is disconnected from the collar 37 and thereby not preventing the hydraulic cylinder from expansion any longer. The fastening means 32 of the hydraulic unit 34, 35 is disconnected from the brake disc 1. The hydraulic unit 34, 35 expands to its maximum stroke position or to a position near its maximum stroke position and the fastening means 32 is re-connected to the brake disc 1. The locking connection 22 is now disconnected from the connecting device 2 of the brake disc 1 thereby not hindering the brake disc 1 from rotation. The hydraulic unit 34, 35 once again rotates the brake disc 1 clock- wise by contracting itself to its minimum stroke position or to a position near its minimum stroke position. The sleeve 36 is screwed on the collar 37 as earlier described, the locking device 22 is connected to the brake disc 1 and the rotor hub is thereby once again positioned and ready for the fitting of the third rotor blade to the flange of the rotor hub. After having mounted the third rotor blade to the rotor hub, the locking device 20 and the hydraulic unit 34, 35 is disconnected from the disc brake 1. The pistons 38 and 39 steer the hydraulic unit 34, 35 and the locking device 20 to their resting positions shown in Fig. 5. As evident from above using both the locking device 20 and the securing means 36, 37 at the same time for securing the rotor hub 40 from sudden and unwished rotations lead to a doubled security when mounting rotor blades 51. However, in some installations only one security means may be sufficient. In still a further embodiment the rotation of the brake disc, and as a consequence thereof, the rotation of the rotor hub 40, is performed counter-clockwise. The fastening device 32 of the hydraulic unit 34, 35 is then connected to the disc brake 1 when the hydraulic unit 34, 35 is in a contracted position. The hydraulic unit 34, 35 starts to expand thereby rotating the brake disc 1 counter-clockwise. When the rotation of the brake disc 1 reaches a certain degree of angle (normally close to full expansion of the unit 30), the locking device 20 is connected to the brake disc 1, thereby securing the brake disc 1 from further rotation. As mentioned above this may provide sufficient safety in many installations. However, also according to this embodiment double security may be used by means of a blocking device that prevents contraction of the piston 35. If hypothetically something in the hydraulic system would break, thereby causing a sudden hydraulic pressure drop, (having the hydraulic unit 34, 35 is in its expanded position) before having locked the rotor hub 40, (i.e. before connecting the locking device 20 to the brake disc 1), the contraction of the hydraulic unit 34, 35 can be prevented by an additional securing means (blocking device, not shown) which could for instance be an arched, elongated piece of metal adapted to the diameter of the piston rod and having almost the same length as the piston rod, thereby securing the piston rod from contraction. As a result thereof, the risk of having an unwished rotation of the rotor hub 40 is prevented. The security arrangements described above, regarding the securing of the rotor hub 40 from undesired rotation, may also be used when other operations then blade mounting are to be done, e.g. repairing of the brake units 5. The wind power plant according to various embodiments of the invention is a big plant having a passenger lift inside the tower. The process may accordingly be assisted by persons in the machine housing. The method is fast since it merely takes about 20 minutes to connect the unit 30, unlock the locking device 20, rotate the brake disc and repeat the procedure until 120 degrees rotation has been achieved. This means that the process according to various aspects of the invention is a fast and easy way to mount rotor blades on a rotor hub. The arrangement is not merged with big investment cost, but can rather be seen as an investment of low cost. It is a big advantage to have the equipment of the arrangement always on place. The wind turbine of the wind power plant described has no gear box but for those machines that have gearboxes the arrangement according to various embodiments of the invention could be used in the same manner as on machines without gearboxes. The arrangement according to the invention can of course be used for dismantling of the rotor blades if a need for reparation or exchange of the rotor blades arises. As will be understood by those skilled in the present field of art, numerous changes and modifications may be made to the above described and other embodiments of the present invention, without departing from its scope as defined in the appending claims. The locking device 20 has two parallel plates 221 , 222 having a coaxial through hole 220, which plates 221, 222 are arranged to be positioned on a respective side of the brake disc 1. In a further embodiment the locking device could be provided with only one plate (221 or 222). The final adjustment of the rotation of the disc 1 in order to locate the connecting device 2 in the exact position for the connection to the locking connection 22 of the locking device 20 can be done hydraulically. The fastening means 32 could in another embodiment be arranged in such a way that the head itself of the piston rod is connected directly to the disc brake 1. The means for rotation 30 of the disc 1 could of course be something else than a hydraulic unit 34, 35, e.g. electrical driven cylinder or actuator or pneumatic cylinder. It is evident for a man skilled in the art to find other solutions regarding the securing means. The male portion 37 and the female portion 36 of the securing means could for instance be ratchet means or a releasable claw coupling. The securing means 36, 37 can be arranged in such way that when the securing means 36, 37 secures the means for rotation 30 from expansion, the securing means 36, 37 does not provide further adjustment of the rotation of the disc 1. The female portion 36 could for instance have a fixed but elastic position in relation to the disc 1. When the female portion 36 is connected to the male portion 37, the position of the disc 1 is not affected. If an even higher degree of safety is desired when the mounting of rotor blades or repairing of the brake units are being performed, the connection of the locking device 20 and/or securing means 36, 37 could be arranged to be remotely controlled.\n"
     ]
    }
   ],
   "source": [
    "examples_x = []\n",
    "for i in range(len(title_list)):\n",
    "    example = str(title_list[i]) + \" \" + str(claims_list[i]) + \" \" + str(description_list[i])\n",
    "    examples_x.append(example)\n",
    "\n",
    "print(examples_x[0])"
   ]
  },
  {
   "cell_type": "code",
   "execution_count": 47,
   "metadata": {},
   "outputs": [],
   "source": [
    "chunk_size = 500\n",
    "examples_x_new = []\n",
    "id_list_new = []\n",
    "title_list_new = []\n",
    "\n",
    "for doc, doc_id, title in zip(examples_x, id_list, title_list):\n",
    "    words = doc.split()  # Split document into words\n",
    "    chunks = [words[i:i + chunk_size] for i in range(0, len(words), chunk_size)]  # Create chunks\n",
    "    for chunk in chunks:\n",
    "        examples_x_new.append(\" \".join(chunk))  # Join words back into a string for each chunk\n",
    "        id_list_new.append(doc_id)  # Append the same ID for each chunk\n",
    "        title_list_new.append(title)  # Append the same title for each chunk"
   ]
  },
  {
   "cell_type": "code",
   "execution_count": 48,
   "metadata": {},
   "outputs": [],
   "source": [
    "examples_x = examples_x_new\n",
    "id_list= id_list_new\n",
    "title_list = title_list_new"
   ]
  },
  {
   "cell_type": "code",
   "execution_count": 51,
   "metadata": {},
   "outputs": [
    {
     "name": "stdout",
     "output_type": "stream",
     "text": [
      "The average number of words for all documents 576369 in examples_x is 477.79\n"
     ]
    },
    {
     "data": {
      "text/plain": [
       "576369"
      ]
     },
     "execution_count": 51,
     "metadata": {},
     "output_type": "execute_result"
    }
   ],
   "source": [
    "# Calculate the average number of words for all documents in examples_x\n",
    "def average_word_count(documents):\n",
    "    total_words = sum(len(doc.split()) for doc in documents)\n",
    "    return total_words / len(documents)\n",
    "\n",
    "# Assuming examples_x is already defined\n",
    "average_words = average_word_count(examples_x)\n",
    "print(f\"The average number of words for all documents {len(examples_x)} in examples_x is {average_words:.2f}\")"
   ]
  },
  {
   "cell_type": "code",
   "execution_count": 52,
   "metadata": {},
   "outputs": [],
   "source": [
    "# Example usage\n",
    "#title_list = [\"This is a test sentence.\", \"Another sentence for testing.\", \"Final example sentence.\"]\n",
    "simcse_embeddings = get_simcse_embeddings(examples_x[:2000], batch_size=16)"
   ]
  },
  {
   "cell_type": "code",
   "execution_count": 53,
   "metadata": {},
   "outputs": [],
   "source": [
    "test_doc = examples_x[11601]"
   ]
  },
  {
   "cell_type": "code",
   "execution_count": 56,
   "metadata": {},
   "outputs": [
    {
     "name": "stdout",
     "output_type": "stream",
     "text": [
      "Index: 1961, Rank: 1, Score: 0.8644, Lens ID: 183-136-394-043-221, Title: Method and apparatus to remotely control a wind turbine park\n",
      "Index: 1936, Rank: 2, Score: 0.8570, Lens ID: 171-622-816-293-625, Title: Element for lifting the blade and method followed\n",
      "Index: 1476, Rank: 3, Score: 0.8493, Lens ID: 133-858-820-170-882, Title: Energy generation plant driven by wind or water currents\n",
      "Index: 1482, Rank: 4, Score: 0.8488, Lens ID: 134-734-952-929-354, Title: Wind turbine, yaw system controller and yaw system for a wind turbine and method of reducing the loads acting on such a yaw system\n",
      "Index: 895, Rank: 5, Score: 0.8468, Lens ID: 093-613-372-316-053, Title: Wind turbine blade having a flow guiding device with optimised height\n",
      "Index: 1886, Rank: 6, Score: 0.8461, Lens ID: 161-787-086-720-957, Title: Method of start up at least a part of a wind power plant, wind power plant and use of the wind power plant\n",
      "Index: 1480, Rank: 7, Score: 0.8458, Lens ID: 134-214-724-617-317, Title: Compressed air energy storage system utilizing two-phase flow to facilitate heat exchange\n",
      "Index: 1481, Rank: 8, Score: 0.8435, Lens ID: 134-325-319-485-009, Title: Wind turbine tower and system and method for fabricating the same\n",
      "Index: 423, Rank: 9, Score: 0.8425, Lens ID: 036-675-362-736-528, Title: Photovoltaic-wind hybrid turbine system\n",
      "Index: 1981, Rank: 10, Score: 0.8403, Lens ID: 189-865-003-152-85X, Title: Structure adapted to traverse a fluid environment and method of retrofitting structure adapted to traverse a fluid environment\n",
      "Index: 1287, Rank: 11, Score: 0.8383, Lens ID: 113-235-937-387-78X, Title: FLUID DRIVEN VERTICAL AXIS TURBINE\n",
      "Index: 1948, Rank: 12, Score: 0.8350, Lens ID: 178-539-066-977-071, Title: FLUID ENERGY INCREASING AND CONVERTING DEVICE\n",
      "Index: 1938, Rank: 13, Score: 0.8349, Lens ID: 172-823-633-573-218, Title: Computer System & Method for Predicting an Abnormal Event at a Wind Turbine in a Cluster\n",
      "Index: 1677, Rank: 14, Score: 0.8346, Lens ID: 147-286-918-309-368, Title: Assembly method of wind power generation system\n",
      "Index: 1165, Rank: 15, Score: 0.8328, Lens ID: 098-533-713-107-148, Title: METHOD FOR MANUFACTURING A STRUCTURAL COMPONENT OF A BLADE SEGMENT FOR A ROTOR BLADE OF A WIND TURBINE\n",
      "Index: 1903, Rank: 16, Score: 0.8312, Lens ID: 167-447-675-801-816, Title: Gear box assembly-upper head assembly\n",
      "Index: 116, Rank: 17, Score: 0.8291, Lens ID: 008-411-824-416-218, Title: METHOD FOR THE PRODUCTION OF WIND TURBINE TOWER SEGMENTS AND WIND TURBINE TOWER\n",
      "Index: 958, Rank: 18, Score: 0.8290, Lens ID: 083-008-250-163-935, Title: ADJUSTABLE EXHAUST APPARATUS FOR A RAM AIR TURBINE GENERATING SYSTEM\n",
      "Index: 1166, Rank: 19, Score: 0.8269, Lens ID: 098-539-302-139-353, Title: WIND POWER PLANTS AND MULTI-ROTOR WIND TURBINE SYSTEMS\n",
      "Index: 1887, Rank: 20, Score: 0.8259, Lens ID: 161-791-235-636-962, Title: WIND TURBINE\n"
     ]
    }
   ],
   "source": [
    "# Create embedding for the test title\n",
    "test_doc_embedding = get_simcse_embeddings([test_doc])\n",
    "\n",
    "# Compute cosine similarities\n",
    "cosine_scores = cosine_similarity(test_doc_embedding, simcse_embeddings)[0]\n",
    "\n",
    "# Get the top 10 similar titles\n",
    "top_indices = cosine_scores.argsort()[-20:][::-1]\n",
    "\n",
    "# Print the index, rank, score, lens_id, and title of each document\n",
    "# print(\"Top 10 similar docs to '{}':\".format(test_doc))\n",
    "for rank, idx in enumerate(top_indices, start=1):\n",
    "    score = cosine_scores[idx]\n",
    "    lens_id = examples_dataframe.iloc[idx]['lens_id']\n",
    "    title = examples_dataframe.iloc[idx]['title']\n",
    "    print(f\"Index: {idx}, Rank: {rank}, Score: {score:.4f}, Lens ID: {lens_id}, Title: {title}\")"
   ]
  },
  {
   "cell_type": "markdown",
   "metadata": {},
   "source": [
    "## FAISS ANN"
   ]
  },
  {
   "cell_type": "code",
   "execution_count": 57,
   "metadata": {},
   "outputs": [],
   "source": [
    "# Convert to numpy for ANN or cosine similarity\n",
    "simcse_embeddings_np = simcse_embeddings.numpy()\n",
    "\n",
    "# Dimensionality of embeddings\n",
    "embedding_dim = simcse_embeddings_np.shape[1]\n",
    "\n",
    "# Convert the test title embedding to numpy\n",
    "test_doc_embedding_np = test_doc_embedding.numpy()"
   ]
  },
  {
   "cell_type": "code",
   "execution_count": 58,
   "metadata": {},
   "outputs": [
    {
     "name": "stdout",
     "output_type": "stream",
     "text": [
      "Rank 1: 013-371-305-262-568 (Distance: 6.295607089996338) Title: RETRACTABLE BLADE STRUCTURE WITH A SPLIT TRAILING EDGE\n",
      "Rank 2: 012-903-836-155-903 (Distance: 6.662032127380371) Title: Self governing fluid energy turbine\n",
      "Rank 3: 009-604-420-618-187 (Distance: 7.053715229034424) Title: Vertical axis wind turbine with articulating rotor\n",
      "Rank 4: 009-604-420-618-187 (Distance: 7.1538405418396) Title: Vertical axis wind turbine with articulating rotor\n",
      "Rank 5: 009-604-420-618-187 (Distance: 7.249152183532715) Title: Vertical axis wind turbine with articulating rotor\n",
      "Rank 6: 013-003-079-530-86X (Distance: 7.332096576690674) Title: WIND TURBINE WITH PRESTRESSABLE SUPPORTING ARMS\n",
      "Rank 7: 003-607-558-948-547 (Distance: 7.429407596588135) Title: EXHAUST POWER GENERATION DEVICE\n",
      "Rank 8: 009-604-420-618-187 (Distance: 7.580665588378906) Title: Vertical axis wind turbine with articulating rotor\n",
      "Rank 9: 013-976-231-755-440 (Distance: 7.638299942016602) Title: Linear motion wind driven power plant\n",
      "Rank 10: 008-130-892-737-426 (Distance: 7.90302038192749) Title: Segmented Airfoil Design For Guide Wires\n"
     ]
    }
   ],
   "source": [
    "# Create FAISS index for Euclidean distance\n",
    "index = faiss.IndexFlatL2(embedding_dim)  # L2 for Euclidean distance\n",
    "index.add(simcse_embeddings_np)\n",
    "\n",
    "# Search for top 10 most similar titles using Euclidean distance\n",
    "k = 10\n",
    "distances, indices = index.search(test_doc_embedding_np, k)\n",
    "\n",
    "# Retrieve and display similar titles\n",
    "similar_titles = [id_list[idx] for idx in indices[0]]\n",
    "\n",
    "for i, id in enumerate(similar_titles):\n",
    "    print(f\"Rank {i+1}: {id} (Distance: {distances[0][i]}) Title: {title_list[indices[0][i]]}\")"
   ]
  },
  {
   "cell_type": "code",
   "execution_count": 59,
   "metadata": {},
   "outputs": [
    {
     "name": "stdout",
     "output_type": "stream",
     "text": [
      "Rank 1: 013-371-305-262-568 (Score: 0.8643819093704224) Title: RETRACTABLE BLADE STRUCTURE WITH A SPLIT TRAILING EDGE\n",
      "Rank 2: 012-903-836-155-903 (Score: 0.856980562210083) Title: Self governing fluid energy turbine\n",
      "Rank 3: 009-604-420-618-187 (Score: 0.8492686152458191) Title: Vertical axis wind turbine with articulating rotor\n",
      "Rank 4: 009-604-420-618-187 (Score: 0.8487626314163208) Title: Vertical axis wind turbine with articulating rotor\n",
      "Rank 5: 013-003-079-530-86X (Score: 0.8467873334884644) Title: WIND TURBINE WITH PRESTRESSABLE SUPPORTING ARMS\n",
      "Rank 6: 010-949-078-926-035 (Score: 0.8460617065429688) Title: Wind powered electricity generation system\n",
      "Rank 7: 009-604-420-618-187 (Score: 0.8457615375518799) Title: Vertical axis wind turbine with articulating rotor\n",
      "Rank 8: 009-604-420-618-187 (Score: 0.8434953689575195) Title: Vertical axis wind turbine with articulating rotor\n",
      "Rank 9: 003-607-558-948-547 (Score: 0.8424891233444214) Title: EXHAUST POWER GENERATION DEVICE\n",
      "Rank 10: 013-976-231-755-440 (Score: 0.8402897119522095) Title: Linear motion wind driven power plant\n"
     ]
    }
   ],
   "source": [
    "# Create a FAISS index (L2 similarity by default; for cosine, normalize embeddings)\n",
    "index = faiss.IndexFlatL2(embedding_dim)\n",
    "\n",
    "# Add your precomputed embeddings to the index\n",
    "index.add(simcse_embeddings_np)\n",
    "\n",
    "# Normalize embeddings to unit length (for cosine similarity)\n",
    "faiss.normalize_L2(simcse_embeddings_np)\n",
    "index = faiss.IndexFlatIP(embedding_dim)  # Inner product for cosine similarity\n",
    "index.add(simcse_embeddings_np)\n",
    "\n",
    "# Normalize test title embedding if using cosine similarity\n",
    "faiss.normalize_L2(test_doc_embedding_np)\n",
    "\n",
    "# Search for the top 10 most similar titles\n",
    "k = 10  # Number of nearest neighbors\n",
    "distances, indices = index.search(test_doc_embedding_np, k)\n",
    "\n",
    "# `indices` contains the indices of the top 10 most similar titles\n",
    "# `distances` contains the similarity scores\n",
    "\n",
    "# Get the top 10 most similar titles\n",
    "similar_docs_id = [id_list[idx] for idx in indices[0]]\n",
    "\n",
    "\n",
    "# Print results\n",
    "for i, id in enumerate(similar_docs_id):\n",
    "    print(f\"Rank {i+1}: {id} (Score: {distances[0][i]}) Title: {title_list[indices[0][i]]}\")"
   ]
  }
 ],
 "metadata": {
  "kernelspec": {
   "display_name": "llama",
   "language": "python",
   "name": "python3"
  },
  "language_info": {
   "codemirror_mode": {
    "name": "ipython",
    "version": 3
   },
   "file_extension": ".py",
   "mimetype": "text/x-python",
   "name": "python",
   "nbconvert_exporter": "python",
   "pygments_lexer": "ipython3",
   "version": "3.9.17"
  }
 },
 "nbformat": 4,
 "nbformat_minor": 2
}
