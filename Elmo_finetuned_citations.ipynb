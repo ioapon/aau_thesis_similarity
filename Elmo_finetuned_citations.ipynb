{
 "cells": [
  {
   "cell_type": "code",
   "execution_count": null,
   "metadata": {},
   "outputs": [],
   "source": [
    "import zipfile\n",
    "import pandas as pd\n",
    "import numpy as np\n",
    "import tensorflow as tf"
   ]
  },
  {
   "cell_type": "code",
   "execution_count": 4,
   "metadata": {},
   "outputs": [
    {
     "name": "stdout",
     "output_type": "stream",
     "text": [
      "['patentmatch_train_balanced.tsv']\n",
      "['patentmatch_test_balanced.tsv']\n"
     ]
    }
   ],
   "source": [
    "# Path to the zip file\n",
    "zip_file_path = r'C:\\Users\\John\\Desktop\\Patent Datasets\\final_data\\HiDrive\\patentmatch_train_balanced.zip'\n",
    "zip_file_path_test = r'C:\\Users\\John\\Desktop\\Patent Datasets\\final_data\\HiDrive\\patentmatch_test_balanced.zip'\n",
    "\n",
    "# Open the zip file\n",
    "with zipfile.ZipFile(zip_file_path, 'r') as z:\n",
    "    # List all files in the zip\n",
    "    print(z.namelist())\n",
    "    \n",
    "    # Assuming the zip contains a TSV file named 'data.tsv'\n",
    "    with z.open('patentmatch_train_balanced.tsv') as f:\n",
    "        df_train_cites = pd.read_csv(f, delimiter='\\t')\n",
    "\n",
    "# Open the zip file\n",
    "with zipfile.ZipFile(zip_file_path_test, 'r') as z:\n",
    "    # List all files in the zip\n",
    "    print(z.namelist())\n",
    "    \n",
    "    # Assuming the zip contains a TSV file named 'data.tsv'\n",
    "    with z.open('patentmatch_test_balanced.tsv') as f:\n",
    "        df_test_cites = pd.read_csv(f, delimiter='\\t')"
   ]
  },
  {
   "cell_type": "code",
   "execution_count": 6,
   "metadata": {},
   "outputs": [],
   "source": [
    "# Ensure that only necessary columns are selected\n",
    "df_train_ct = df_train_cites[[\"text\", \"text_b\", \"label\"]]\n",
    "df_test_ct = df_test_cites[[\"text\", \"text_b\", \"label\"]]\n",
    "\n",
    "# Split into X and y\n",
    "X_train = df_train_ct[['text', 'text_b']]\n",
    "y_train = df_train_ct['label']\n",
    "X_test = df_test_ct[['text', 'text_b']]\n",
    "y_test = df_test_ct['label']"
   ]
  },
  {
   "cell_type": "code",
   "execution_count": null,
   "metadata": {},
   "outputs": [],
   "source": [
    "# Load pre-trained ELMo model\n",
    "elmo = hub.load(\"https://tfhub.dev/google/elmo/3\")\n",
    "\n",
    "# ELMo embedding function\n",
    "def elmo_embed(sentences):\n",
    "    return elmo.signatures['default'](tf.constant(sentences))['elmo']"
   ]
  }
 ],
 "metadata": {
  "kernelspec": {
   "display_name": "tf",
   "language": "python",
   "name": "python3"
  },
  "language_info": {
   "codemirror_mode": {
    "name": "ipython",
    "version": 3
   },
   "file_extension": ".py",
   "mimetype": "text/x-python",
   "name": "python",
   "nbconvert_exporter": "python",
   "pygments_lexer": "ipython3",
   "version": "3.9.17"
  }
 },
 "nbformat": 4,
 "nbformat_minor": 2
}
